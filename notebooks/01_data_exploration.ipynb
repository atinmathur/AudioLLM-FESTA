{
 "cells": [
  {
   "cell_type": "markdown",
   "metadata": {},
   "source": [
    "# TREA Dataset Exploration\n",
    "\n",
    "This notebook explores the TREA (Temporal Reasoning Evaluation of Audio) dataset.\n",
    "\n",
    "## Contents\n",
    "1. Load and inspect the dataset\n",
    "2. Analyze task distributions\n",
    "3. Examine audio files\n",
    "4. Visualize question patterns\n",
    "5. Listen to sample audio clips"
   ]
  },
  {
   "cell_type": "code",
   "execution_count": null,
   "metadata": {},
   "outputs": [],
   "source": [
    "import sys\n",
    "sys.path.append('..')\n",
    "\n",
    "import pandas as pd\n",
    "import numpy as np\n",
    "import matplotlib.pyplot as plt\n",
    "import seaborn as sns\n",
    "from pathlib import Path\n",
    "import librosa\n",
    "import librosa.display\n",
    "from IPython.display import Audio, display\n",
    "\n",
    "from src.data_loader import load_trea_dataset\n",
    "\n",
    "# Set style\n",
    "plt.style.use('seaborn-v0_8-darkgrid')\n",
    "sns.set_palette('husl')\n",
    "%matplotlib inline"
   ]
  },
  {
   "cell_type": "markdown",
   "metadata": {},
   "source": [
    "## 1. Load Dataset"
   ]
  },
  {
   "cell_type": "code",
   "execution_count": null,
   "metadata": {},
   "outputs": [],
   "source": [
    "# Load dataset with 30 samples per task\n",
    "dataset = load_trea_dataset(\n",
    "    data_dir='../TREA_dataset',\n",
    "    tasks=['count', 'order', 'duration'],\n",
    "    samples_per_task=30,\n",
    "    random_seed=42\n",
    ")\n",
    "\n",
    "print(f\"Total samples: {len(dataset)}\")\n",
    "print(f\"\\nDataset statistics:\")\n",
    "stats = dataset.get_statistics()\n",
    "for task, task_stats in stats['tasks'].items():\n",
    "    print(f\"  {task}: {task_stats['count']} samples\")"
   ]
  },
  {
   "cell_type": "markdown",
   "metadata": {},
   "source": [
    "## 2. Task Distribution"
   ]
  },
  {
   "cell_type": "code",
   "execution_count": null,
   "metadata": {},
   "outputs": [],
   "source": [
    "# Count samples per task\n",
    "task_counts = pd.Series([sample['task'] for sample in dataset.data]).value_counts()\n",
    "\n",
    "# Plot\n",
    "fig, ax = plt.subplots(figsize=(10, 6))\n",
    "task_counts.plot(kind='bar', ax=ax)\n",
    "ax.set_title('TREA Dataset: Task Distribution', fontsize=14, fontweight='bold')\n",
    "ax.set_xlabel('Task', fontsize=12)\n",
    "ax.set_ylabel('Number of Samples', fontsize=12)\n",
    "ax.grid(axis='y', alpha=0.3)\n",
    "plt.xticks(rotation=0)\n",
    "plt.tight_layout()\n",
    "plt.show()"
   ]
  },
  {
   "cell_type": "markdown",
   "metadata": {},
   "source": [
    "## 3. Examine Sample Questions"
   ]
  },
  {
   "cell_type": "code",
   "execution_count": null,
   "metadata": {},
   "outputs": [],
   "source": [
    "# Show examples from each task\n",
    "for task in ['count', 'order', 'duration']:\n",
    "    print(f\"\\n{'='*70}\")\n",
    "    print(f\"TASK: {task.upper()}\")\n",
    "    print(f\"{'='*70}\\n\")\n",
    "    \n",
    "    task_samples = dataset.get_by_task(task)\n",
    "    for i, sample in enumerate(task_samples[:3], 1):\n",
    "        print(f\"Example {i}:\")\n",
    "        print(f\"Question: {sample['question']}\")\n",
    "        print(f\"Options:\")\n",
    "        for key, value in sample['options'].items():\n",
    "            marker = '✓' if key == sample['correct_answer'] else ' '\n",
    "            print(f\"  [{marker}] ({key}) {value}\")\n",
    "        print(f\"Correct Answer: {sample['correct_answer']}\")\n",
    "        print()"
   ]
  },
  {
   "cell_type": "markdown",
   "metadata": {},
   "source": [
    "## 4. Answer Distribution"
   ]
  },
  {
   "cell_type": "code",
   "execution_count": null,
   "metadata": {},
   "outputs": [],
   "source": [
    "# Analyze answer distribution\n",
    "answers = pd.Series([sample['correct_answer'] for sample in dataset.data])\n",
    "answer_counts = answers.value_counts()\n",
    "\n",
    "fig, ax = plt.subplots(figsize=(8, 6))\n",
    "answer_counts.plot(kind='bar', ax=ax, color='steelblue')\n",
    "ax.set_title('Correct Answer Distribution', fontsize=14, fontweight='bold')\n",
    "ax.set_xlabel('Answer Option', fontsize=12)\n",
    "ax.set_ylabel('Count', fontsize=12)\n",
    "ax.axhline(y=len(dataset)/4, color='red', linestyle='--', label='Uniform distribution')\n",
    "ax.legend()\n",
    "ax.grid(axis='y', alpha=0.3)\n",
    "plt.xticks(rotation=0)\n",
    "plt.tight_layout()\n",
    "plt.show()\n",
    "\n",
    "print(f\"\\nAnswer distribution:\")\n",
    "for option, count in answer_counts.items():\n",
    "    print(f\"  {option}: {count} ({count/len(dataset)*100:.1f}%)\")"
   ]
  },
  {
   "cell_type": "markdown",
   "metadata": {},
   "source": [
    "## 5. Audio File Analysis"
   ]
  },
  {
   "cell_type": "code",
   "execution_count": null,
   "metadata": {},
   "outputs": [],
   "source": [
    "# Analyze audio durations\n",
    "durations = []\n",
    "for sample in dataset.data[:30]:  # Sample subset for speed\n",
    "    audio, sr = librosa.load(sample['audio_path'], sr=None)\n",
    "    durations.append(len(audio) / sr)\n",
    "\n",
    "durations = np.array(durations)\n",
    "\n",
    "print(f\"Audio Duration Statistics (seconds):\")\n",
    "print(f\"  Mean: {durations.mean():.2f}\")\n",
    "print(f\"  Std:  {durations.std():.2f}\")\n",
    "print(f\"  Min:  {durations.min():.2f}\")\n",
    "print(f\"  Max:  {durations.max():.2f}\")\n",
    "\n",
    "# Plot duration distribution\n",
    "fig, ax = plt.subplots(figsize=(10, 6))\n",
    "ax.hist(durations, bins=20, edgecolor='black', alpha=0.7)\n",
    "ax.set_title('Audio Duration Distribution', fontsize=14, fontweight='bold')\n",
    "ax.set_xlabel('Duration (seconds)', fontsize=12)\n",
    "ax.set_ylabel('Frequency', fontsize=12)\n",
    "ax.axvline(durations.mean(), color='red', linestyle='--', label=f'Mean: {durations.mean():.2f}s')\n",
    "ax.legend()\n",
    "ax.grid(axis='y', alpha=0.3)\n",
    "plt.tight_layout()\n",
    "plt.show()"
   ]
  },
  {
   "cell_type": "markdown",
   "metadata": {},
   "source": [
    "## 6. Visualize Sample Audio"
   ]
  },
  {
   "cell_type": "code",
   "execution_count": null,
   "metadata": {},
   "outputs": [],
   "source": [
    "# Select a sample\n",
    "sample = dataset.data[0]\n",
    "\n",
    "print(f\"Task: {sample['task']}\")\n",
    "print(f\"Question: {sample['question']}\")\n",
    "print(f\"\\nOptions:\")\n",
    "for key, value in sample['options'].items():\n",
    "    marker = '✓' if key == sample['correct_answer'] else ' '\n",
    "    print(f\"  [{marker}] ({key}) {value}\")\n",
    "\n",
    "# Load audio\n",
    "audio, sr = librosa.load(sample['audio_path'], sr=16000)\n",
    "\n",
    "# Play audio\n",
    "print(f\"\\nPlay audio:\")\n",
    "display(Audio(audio, rate=sr))\n",
    "\n",
    "# Visualize waveform\n",
    "fig, axes = plt.subplots(2, 1, figsize=(14, 8))\n",
    "\n",
    "# Waveform\n",
    "librosa.display.waveshow(audio, sr=sr, ax=axes[0])\n",
    "axes[0].set_title('Waveform', fontsize=12, fontweight='bold')\n",
    "axes[0].set_ylabel('Amplitude')\n",
    "\n",
    "# Spectrogram\n",
    "D = librosa.amplitude_to_db(np.abs(librosa.stft(audio)), ref=np.max)\n",
    "img = librosa.display.specshow(D, sr=sr, x_axis='time', y_axis='hz', ax=axes[1])\n",
    "axes[1].set_title('Spectrogram', fontsize=12, fontweight='bold')\n",
    "axes[1].set_ylabel('Frequency (Hz)')\n",
    "fig.colorbar(img, ax=axes[1], format='%+2.0f dB')\n",
    "\n",
    "plt.tight_layout()\n",
    "plt.show()"
   ]
  },
  {
   "cell_type": "markdown",
   "metadata": {},
   "source": [
    "## 7. Event Detection"
   ]
  },
  {
   "cell_type": "code",
   "execution_count": null,
   "metadata": {},
   "outputs": [],
   "source": [
    "# Detect events in the audio\n",
    "from src.utils import AudioProcessor\n",
    "\n",
    "processor = AudioProcessor()\n",
    "events = processor.extract_events(audio, sr, top_db=20)\n",
    "\n",
    "print(f\"Detected {len(events)} events:\")\n",
    "for i, (start, end) in enumerate(events, 1):\n",
    "    duration = (end - start) / sr\n",
    "    print(f\"  Event {i}: {start/sr:.2f}s - {end/sr:.2f}s (duration: {duration:.2f}s)\")\n",
    "\n",
    "# Visualize events on waveform\n",
    "fig, ax = plt.subplots(figsize=(14, 4))\n",
    "librosa.display.waveshow(audio, sr=sr, ax=ax, alpha=0.6)\n",
    "ax.set_title('Detected Sound Events', fontsize=12, fontweight='bold')\n",
    "ax.set_ylabel('Amplitude')\n",
    "\n",
    "# Mark events\n",
    "for i, (start, end) in enumerate(events):\n",
    "    ax.axvspan(start/sr, end/sr, alpha=0.3, label=f'Event {i+1}')\n",
    "\n",
    "if len(events) <= 5:\n",
    "    ax.legend(loc='upper right')\n",
    "\n",
    "plt.tight_layout()\n",
    "plt.show()"
   ]
  },
  {
   "cell_type": "markdown",
   "metadata": {},
   "source": [
    "## 8. Task-Specific Analysis"
   ]
  },
  {
   "cell_type": "code",
   "execution_count": null,
   "metadata": {},
   "outputs": [],
   "source": [
    "# Analyze question patterns by task\n",
    "task_questions = {}\n",
    "for task in ['count', 'order', 'duration']:\n",
    "    task_samples = dataset.get_by_task(task)\n",
    "    questions = [s['question'] for s in task_samples]\n",
    "    task_questions[task] = questions\n",
    "    \n",
    "    print(f\"\\n{task.upper()} Task - Question Patterns:\")\n",
    "    print(f\"  Total unique questions: {len(set(questions))}\")\n",
    "    \n",
    "    # Most common patterns\n",
    "    from collections import Counter\n",
    "    question_counts = Counter(questions)\n",
    "    print(f\"  Most common:\")\n",
    "    for q, count in question_counts.most_common(3):\n",
    "        print(f\"    ({count}x) {q[:60]}...\")"
   ]
  },
  {
   "cell_type": "markdown",
   "metadata": {},
   "source": [
    "## Summary\n",
    "\n",
    "This notebook explored the TREA dataset:\n",
    "- ✅ Loaded 90 samples (30 per task)\n",
    "- ✅ Analyzed task distribution\n",
    "- ✅ Examined question patterns\n",
    "- ✅ Visualized audio files\n",
    "- ✅ Detected sound events\n",
    "\n",
    "**Next Steps:**\n",
    "1. Test model predictions (notebook 02)\n",
    "2. Run FESTA experiments (notebook 03)"
   ]
  }
 ],
 "metadata": {
  "kernelspec": {
   "display_name": "Python 3",
   "language": "python",
   "name": "python3"
  },
  "language_info": {
   "codemirror_mode": {
    "name": "ipython",
    "version": 3
   },
   "file_extension": ".py",
   "mimetype": "text/x-python",
   "name": "python",
   "nbconvert_exporter": "python",
   "pygments_lexer": "ipython3",
   "version": "3.8.0"
  }
 },
 "nbformat": 4,
 "nbformat_minor": 4
}
